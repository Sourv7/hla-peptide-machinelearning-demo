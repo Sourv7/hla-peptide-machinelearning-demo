{
 "cells": [
  {
   "cell_type": "code",
   "execution_count": 4,
   "id": "a2270131-e434-46a9-bca6-9a578fab1a26",
   "metadata": {},
   "outputs": [
    {
     "name": "stdout",
     "output_type": "stream",
     "text": [
      "Requirement already satisfied: pandas in c:\\users\\sourav\\miniconda3\\lib\\site-packages (2.3.2)\n",
      "Requirement already satisfied: numpy>=1.26.0 in c:\\users\\sourav\\miniconda3\\lib\\site-packages (from pandas) (2.3.3)\n",
      "Requirement already satisfied: python-dateutil>=2.8.2 in c:\\users\\sourav\\miniconda3\\lib\\site-packages (from pandas) (2.9.0.post0)\n",
      "Requirement already satisfied: pytz>=2020.1 in c:\\users\\sourav\\miniconda3\\lib\\site-packages (from pandas) (2025.2)\n",
      "Requirement already satisfied: tzdata>=2022.7 in c:\\users\\sourav\\miniconda3\\lib\\site-packages (from pandas) (2025.2)\n",
      "Requirement already satisfied: six>=1.5 in c:\\users\\sourav\\miniconda3\\lib\\site-packages (from python-dateutil>=2.8.2->pandas) (1.17.0)\n"
     ]
    }
   ],
   "source": [
    "!pip install pandas"
   ]
  },
  {
   "cell_type": "code",
   "execution_count": 5,
   "id": "39bdde78-d240-4409-9632-885aafa7d87e",
   "metadata": {},
   "outputs": [
    {
     "name": "stdout",
     "output_type": "stream",
     "text": [
      "Saved dataset to: C:\\Users\\Sourav\\data\\hla_a0201_example.csv\n"
     ]
    },
    {
     "data": {
      "text/html": [
       "<div>\n",
       "<style scoped>\n",
       "    .dataframe tbody tr th:only-of-type {\n",
       "        vertical-align: middle;\n",
       "    }\n",
       "\n",
       "    .dataframe tbody tr th {\n",
       "        vertical-align: top;\n",
       "    }\n",
       "\n",
       "    .dataframe thead th {\n",
       "        text-align: right;\n",
       "    }\n",
       "</style>\n",
       "<table border=\"1\" class=\"dataframe\">\n",
       "  <thead>\n",
       "    <tr style=\"text-align: right;\">\n",
       "      <th></th>\n",
       "      <th>allele</th>\n",
       "      <th>peptide</th>\n",
       "      <th>label</th>\n",
       "    </tr>\n",
       "  </thead>\n",
       "  <tbody>\n",
       "    <tr>\n",
       "      <th>0</th>\n",
       "      <td>HLA-A*02:01</td>\n",
       "      <td>GILGFVFTL</td>\n",
       "      <td>1</td>\n",
       "    </tr>\n",
       "    <tr>\n",
       "      <th>1</th>\n",
       "      <td>HLA-A*02:01</td>\n",
       "      <td>LLFGYPVYV</td>\n",
       "      <td>1</td>\n",
       "    </tr>\n",
       "    <tr>\n",
       "      <th>2</th>\n",
       "      <td>HLA-A*02:01</td>\n",
       "      <td>NLVPMVATV</td>\n",
       "      <td>1</td>\n",
       "    </tr>\n",
       "    <tr>\n",
       "      <th>3</th>\n",
       "      <td>HLA-A*02:01</td>\n",
       "      <td>SLLMWITQC</td>\n",
       "      <td>1</td>\n",
       "    </tr>\n",
       "    <tr>\n",
       "      <th>4</th>\n",
       "      <td>HLA-A*02:01</td>\n",
       "      <td>FLPSDFFPS</td>\n",
       "      <td>1</td>\n",
       "    </tr>\n",
       "  </tbody>\n",
       "</table>\n",
       "</div>"
      ],
      "text/plain": [
       "        allele    peptide  label\n",
       "0  HLA-A*02:01  GILGFVFTL      1\n",
       "1  HLA-A*02:01  LLFGYPVYV      1\n",
       "2  HLA-A*02:01  NLVPMVATV      1\n",
       "3  HLA-A*02:01  SLLMWITQC      1\n",
       "4  HLA-A*02:01  FLPSDFFPS      1"
      ]
     },
     "execution_count": 5,
     "metadata": {},
     "output_type": "execute_result"
    }
   ],
   "source": [
    "# Create a small, ready-to-run supervised ML demo dataset for peptide–HLA binding (toy example).\n",
    "# This version saves to ./data/hla_a0201_example.csv (creates the folder if missing).\n",
    "\n",
    "# 1) Ensure pandas is available (works in Jupyter without restarting)\n",
    "import sys, subprocess\n",
    "try:\n",
    "    import pandas as pd\n",
    "except ImportError:\n",
    "    subprocess.check_call([sys.executable, \"-m\", \"pip\", \"install\", \"pandas\"])\n",
    "    import pandas as pd\n",
    "\n",
    "from pathlib import Path\n",
    "\n",
    "binders = [\n",
    "    \"GILGFVFTL\",\"LLFGYPVYV\",\"NLVPMVATV\",\"SLLMWITQC\",\"FLPSDFFPS\",\"GLCTLVAML\",\"SLYNTVATL\",\n",
    "    \"YVLDHLIVV\",\"ILKEPVHGV\",\"ALYVDSLFF\",\"KVLEYVIKV\",\"YLLPAIVHI\",\"CLGGLLTMV\",\"VLAELVKQI\",\n",
    "    \"ELAGIGILTV\",\"IMDQVPFSV\",\"RLRAEAQVK\",\"SIFSYIPSA\",\"KIFGSLAFL\",\"LLGATCMFV\",\"YLQPRTFLL\",\n",
    "    \"ALWGPDPAAA\",\"YVFVVLLSS\",\"TLNAWVKVV\",\"ILAKFLHWL\",\"LFGYPVYVL\",\"FMYSDFHFI\",\"LLFGYPVYV\",\n",
    "    \"VLSPPLVLF\",\"YLLPRRGPR\"\n",
    "]\n",
    "\n",
    "non_binders = [\n",
    "    \"ACDEFGHIK\",\"LMNPQRSTV\",\"WYACDFGHK\",\"NPQRSTVWY\",\"GGGGGGGGG\",\"PPPPPPPPP\",\"AAAAAAAAA\",\n",
    "    \"SSSSSSSSS\",\"TTTTTTTTT\",\"CCCCCCCCC\",\"VVVVVVVVV\",\"MMMMMMMMM\",\"KKKKKKKKK\",\"RRRRRRRRR\",\n",
    "    \"EEEQQQEEE\",\"HHPHHHPHH\",\"DIDIDIDID\",\"NQNQNQNQN\",\"YGYGYGYGY\",\"ILGSDTQKM\",\"QWERTYIPD\",\n",
    "    \"ASDFGHJKL\",\"PLMVNQRTY\",\"GHTPLMKJI\",\"CNVGTYHQA\",\"LKMNBGFDE\",\"RTYUIOPAS\",\"ZXCVBNMAS\",\n",
    "    \"QAZWSXEDC\",\"PLKJHGFDS\"\n",
    "]\n",
    "\n",
    "data = pd.DataFrame({\n",
    "    \"allele\": [\"HLA-A*02:01\"] * (len(binders) + len(non_binders)),\n",
    "    \"peptide\": binders + non_binders,\n",
    "    \"label\":   [1]*len(binders) + [0]*len(non_binders)\n",
    "})\n",
    "\n",
    "# 2) Save to a local \"data\" folder next to your notebook\n",
    "save_dir = Path.cwd() / \"data\"\n",
    "save_dir.mkdir(parents=True, exist_ok=True)\n",
    "csv_path = save_dir / \"hla_a0201_example.csv\"\n",
    "data.to_csv(csv_path, index=False)\n",
    "\n",
    "print(f\"Saved dataset to: {csv_path.resolve()}\")\n",
    "\n",
    "# 3) (Optional) Preview the first few rows in Jupyter\n",
    "data.head()\n"
   ]
  },
  {
   "cell_type": "code",
   "execution_count": 8,
   "id": "2c4c203a-331b-4cbf-964b-30d106439ae5",
   "metadata": {},
   "outputs": [
    {
     "name": "stdout",
     "output_type": "stream",
     "text": [
      "Requirement already satisfied: matplotlib in c:\\users\\sourav\\miniconda3\\lib\\site-packages (3.10.6)\n",
      "Requirement already satisfied: scikit-learn in c:\\users\\sourav\\miniconda3\\lib\\site-packages (1.7.2)\n",
      "Requirement already satisfied: contourpy>=1.0.1 in c:\\users\\sourav\\miniconda3\\lib\\site-packages (from matplotlib) (1.3.3)\n",
      "Requirement already satisfied: cycler>=0.10 in c:\\users\\sourav\\miniconda3\\lib\\site-packages (from matplotlib) (0.12.1)\n",
      "Requirement already satisfied: fonttools>=4.22.0 in c:\\users\\sourav\\miniconda3\\lib\\site-packages (from matplotlib) (4.60.0)\n",
      "Requirement already satisfied: kiwisolver>=1.3.1 in c:\\users\\sourav\\miniconda3\\lib\\site-packages (from matplotlib) (1.4.9)\n",
      "Requirement already satisfied: numpy>=1.23 in c:\\users\\sourav\\miniconda3\\lib\\site-packages (from matplotlib) (2.3.3)\n",
      "Requirement already satisfied: packaging>=20.0 in c:\\users\\sourav\\miniconda3\\lib\\site-packages (from matplotlib) (24.1)\n",
      "Requirement already satisfied: pillow>=8 in c:\\users\\sourav\\miniconda3\\lib\\site-packages (from matplotlib) (11.3.0)\n",
      "Requirement already satisfied: pyparsing>=2.3.1 in c:\\users\\sourav\\miniconda3\\lib\\site-packages (from matplotlib) (3.2.5)\n",
      "Requirement already satisfied: python-dateutil>=2.7 in c:\\users\\sourav\\miniconda3\\lib\\site-packages (from matplotlib) (2.9.0.post0)\n",
      "Requirement already satisfied: scipy>=1.8.0 in c:\\users\\sourav\\miniconda3\\lib\\site-packages (from scikit-learn) (1.16.2)\n",
      "Requirement already satisfied: joblib>=1.2.0 in c:\\users\\sourav\\miniconda3\\lib\\site-packages (from scikit-learn) (1.5.2)\n",
      "Requirement already satisfied: threadpoolctl>=3.1.0 in c:\\users\\sourav\\miniconda3\\lib\\site-packages (from scikit-learn) (3.6.0)\n",
      "Requirement already satisfied: six>=1.5 in c:\\users\\sourav\\miniconda3\\lib\\site-packages (from python-dateutil>=2.7->matplotlib) (1.17.0)\n"
     ]
    }
   ],
   "source": [
    "!pip install matplotlib scikit-learn"
   ]
  },
  {
   "cell_type": "code",
   "execution_count": 10,
   "id": "d0a412f6-5d47-450d-8f64-4e117d84f51b",
   "metadata": {
    "scrolled": true
   },
   "outputs": [
    {
     "name": "stdout",
     "output_type": "stream",
     "text": [
      "\n",
      "=== LogisticRegression ===\n",
      "Accuracy: 0.733 | ROC-AUC: 0.839\n",
      "              precision    recall  f1-score   support\n",
      "\n",
      "           0      0.833     0.625     0.714         8\n",
      "           1      0.667     0.857     0.750         7\n",
      "\n",
      "    accuracy                          0.733        15\n",
      "   macro avg      0.750     0.741     0.732        15\n",
      "weighted avg      0.756     0.733     0.731        15\n",
      "\n",
      "\n",
      "=== RandomForest ===\n",
      "Accuracy: 0.800 | ROC-AUC: 0.786\n",
      "              precision    recall  f1-score   support\n",
      "\n",
      "           0      0.857     0.750     0.800         8\n",
      "           1      0.750     0.857     0.800         7\n",
      "\n",
      "    accuracy                          0.800        15\n",
      "   macro avg      0.804     0.804     0.800        15\n",
      "weighted avg      0.807     0.800     0.800        15\n",
      "\n"
     ]
    },
    {
     "data": {
      "image/png": "[encoded data removed]",
      "text/plain": [
       "<Figure size 640x480 with 2 Axes>"
      ]
     },
     "metadata": {},
     "output_type": "display_data"
    },
    {
     "name": "stdout",
     "output_type": "stream",
     "text": [
      "\n",
      "Training complete.\n"
     ]
    }
   ],
   "source": [
    "# Train a simple supervised classifier on the toy dataset.\n",
    "# - One-hot encode amino acids (9-mer peptides only; sequences not length 9 will be trimmed/padded if present)\n",
    "# - Train/test split\n",
    "# - Train Logistic Regression and RandomForest\n",
    "# - Evaluate with accuracy, ROC-AUC, classification report\n",
    "# - Plot a confusion matrix\n",
    "\n",
    "import pandas as pd\n",
    "import numpy as np\n",
    "import matplotlib.pyplot as plt\n",
    "\n",
    "from sklearn.model_selection import train_test_split\n",
    "from sklearn.preprocessing import OneHotEncoder\n",
    "from sklearn.linear_model import LogisticRegression\n",
    "from sklearn.ensemble import RandomForestClassifier\n",
    "from sklearn.pipeline import Pipeline\n",
    "from sklearn.metrics import accuracy_score, roc_auc_score, classification_report, ConfusionMatrixDisplay\n",
    "\n",
    "# Load dataset\n",
    "df = pd.read_csv(r\"C:\\Users\\Sourav\\data\\hla_a0201_example.csv\")\n",
    "\n",
    "# Ensure 9-mer length for simplicity\n",
    "def pad_or_trim(seq, length=9, pad_char=\"X\"):\n",
    "    if len(seq) == length:\n",
    "        return seq\n",
    "    if len(seq) > length:\n",
    "        return seq[:length]\n",
    "    return seq + pad_char*(length-len(seq))\n",
    "\n",
    "df[\"peptide\"] = df[\"peptide\"].astype(str).apply(lambda s: pad_or_trim(s, 9))\n",
    "\n",
    "# Build feature matrix: position-specific one-hot\n",
    "aas = list(\"ACDEFGHIKLMNPQRSTVWY\") + [\"X\"]  # include pad token\n",
    "pos_features = []\n",
    "for seq in df[\"peptide\"]:\n",
    "    row = []\n",
    "    for ch in seq:\n",
    "        one_hot = [1 if ch == aa else 0 for aa in aas]\n",
    "        row.extend(one_hot)\n",
    "    pos_features.append(row)\n",
    "\n",
    "X = np.array(pos_features, dtype=np.float32)\n",
    "y = df[\"label\"].values.astype(int)\n",
    "\n",
    "X_train, X_test, y_train, y_test = train_test_split(X, y, test_size=0.25, random_state=42, stratify=y)\n",
    "\n",
    "# Models\n",
    "logreg = LogisticRegression(max_iter=500, n_jobs=None)  # n_jobs not supported here\n",
    "rf = RandomForestClassifier(n_estimators=300, random_state=42)\n",
    "\n",
    "models = {\"LogisticRegression\": logreg, \"RandomForest\": rf}\n",
    "\n",
    "results = []\n",
    "for name, model in models.items():\n",
    "    model.fit(X_train, y_train)\n",
    "    y_prob = model.predict_proba(X_test)[:,1] if hasattr(model, \"predict_proba\") else model.decision_function(X_test)\n",
    "    y_pred = (y_prob >= 0.5).astype(int)\n",
    "    acc = accuracy_score(y_test, y_pred)\n",
    "    try:\n",
    "        auc = roc_auc_score(y_test, y_prob)\n",
    "    except:\n",
    "        auc = float(\"nan\")\n",
    "    results.append((name, acc, auc))\n",
    "    print(f\"\\n=== {name} ===\")\n",
    "    print(f\"Accuracy: {acc:.3f} | ROC-AUC: {auc:.3f}\")\n",
    "    print(classification_report(y_test, y_pred, digits=3))\n",
    "\n",
    "# Plot confusion matrix for the better model by AUC (or accuracy if NaN)\n",
    "best = max(results, key=lambda r: (0 if np.isnan(r[2]) else r[2], r[1]))\n",
    "best_name = best[0]\n",
    "best_model = models[best_name]\n",
    "y_prob = best_model.predict_proba(X_test)[:,1]\n",
    "y_pred = (y_prob >= 0.5).astype(int)\n",
    "\n",
    "disp = ConfusionMatrixDisplay.from_predictions(y_test, y_pred)\n",
    "plt.title(f\"Confusion Matrix — {best_name}\")\n",
    "plt.tight_layout()\n",
    "plt.show()\n",
    "\n",
    "print(\"\\nTraining complete.\")\n",
    "\n"
   ]
  },
  {
   "cell_type": "code",
   "execution_count": null,
   "id": "8de15f07-11d4-4b62-8dfc-fb6ec5d5d15d",
   "metadata": {},
   "outputs": [],
   "source": []
  }
 ],
 "metadata": {
  "kernelspec": {
   "display_name": "Python 3 (ipykernel)",
   "language": "python",
   "name": "python3"
  },
  "language_info": {
   "codemirror_mode": {
    "name": "ipython",
    "version": 3
   },
   "file_extension": ".py",
   "mimetype": "text/x-python",
   "name": "python",
   "nbconvert_exporter": "python",
   "pygments_lexer": "ipython3",
   "version": "3.12.4"
  }
 },
 "nbformat": 4,
 "nbformat_minor": 5
}
